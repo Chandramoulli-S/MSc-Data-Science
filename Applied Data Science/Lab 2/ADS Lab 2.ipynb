{
 "cells": [
  {
   "cell_type": "markdown",
   "metadata": {},
   "source": [
    "## Task 1"
   ]
  },
  {
   "cell_type": "code",
   "execution_count": 54,
   "metadata": {},
   "outputs": [],
   "source": [
    "import pandas as pd\n",
    "import numpy as np\n",
    "import os\n",
    "import string\n",
    "import seaborn as sns\n",
    "import nltk\n",
    "from nltk.corpus import stopwords\n",
    "from nltk.tokenize import word_tokenize\n",
    "from nltk.stem.porter import PorterStemmer\n",
    "from sklearn.feature_extraction.text import CountVectorizer,TfidfTransformer\n",
    "from sklearn.metrics import confusion_matrix, accuracy_score\n",
    "from sklearn.feature_extraction.text import TfidfVectorizer\n",
    "from sklearn.model_selection import train_test_split,GridSearchCV"
   ]
  },
  {
   "cell_type": "code",
   "execution_count": 104,
   "metadata": {},
   "outputs": [
    {
     "data": {
      "text/html": [
       "<div>\n",
       "<style scoped>\n",
       "    .dataframe tbody tr th:only-of-type {\n",
       "        vertical-align: middle;\n",
       "    }\n",
       "\n",
       "    .dataframe tbody tr th {\n",
       "        vertical-align: top;\n",
       "    }\n",
       "\n",
       "    .dataframe thead th {\n",
       "        text-align: right;\n",
       "    }\n",
       "</style>\n",
       "<table border=\"1\" class=\"dataframe\">\n",
       "  <thead>\n",
       "    <tr style=\"text-align: right;\">\n",
       "      <th></th>\n",
       "      <th>Sentiment</th>\n",
       "      <th>Review</th>\n",
       "      <th>Stemmed Review</th>\n",
       "    </tr>\n",
       "  </thead>\n",
       "  <tbody>\n",
       "    <tr>\n",
       "      <th>0</th>\n",
       "      <td>Neg</td>\n",
       "      <td>In 1992 we bought a new Taurus and we really loved it  So in 1999 we decided to try a new Tauru...</td>\n",
       "      <td>1992 bought new tauru realli love 1999 decid tri new tauru care style newer version bought anywa...</td>\n",
       "    </tr>\n",
       "    <tr>\n",
       "      <th>1</th>\n",
       "      <td>Neg</td>\n",
       "      <td>The last business trip  I drove to San Francisco  I went to Hertz Rentals and got a 1999 Ford T...</td>\n",
       "      <td>last busi trip drove san francisco went hertz rental got 1999 ford tauru think look comfort prof...</td>\n",
       "    </tr>\n",
       "    <tr>\n",
       "      <th>2</th>\n",
       "      <td>Neg</td>\n",
       "      <td>My husband and I purchased a 1990 Ford F250 and had nothing but problems  we have owned the veh...</td>\n",
       "      <td>husband purchas 1990 ford f250 noth problem own vehicl approxim two year spent least half time s...</td>\n",
       "    </tr>\n",
       "    <tr>\n",
       "      <th>3</th>\n",
       "      <td>Neg</td>\n",
       "      <td>I feel I have a thorough opinion of this truck compared to most who post evaluations of their v...</td>\n",
       "      <td>feel thorough opinion truck compar post evalu vehicl truck own sinc new current 75k mile meticul...</td>\n",
       "    </tr>\n",
       "    <tr>\n",
       "      <th>4</th>\n",
       "      <td>Neg</td>\n",
       "      <td>AS a mother of 3  all of whom are still in carseats  the only logical thing to do was to trade ...</td>\n",
       "      <td>mother 3 still carseat logic thing trade 200sx minivan minivan one hand vehicl room famili requi...</td>\n",
       "    </tr>\n",
       "  </tbody>\n",
       "</table>\n",
       "</div>"
      ],
      "text/plain": [
       "  Sentiment  \\\n",
       "0       Neg   \n",
       "1       Neg   \n",
       "2       Neg   \n",
       "3       Neg   \n",
       "4       Neg   \n",
       "\n",
       "                                                                                                Review  \\\n",
       "0   In 1992 we bought a new Taurus and we really loved it  So in 1999 we decided to try a new Tauru...   \n",
       "1   The last business trip  I drove to San Francisco  I went to Hertz Rentals and got a 1999 Ford T...   \n",
       "2   My husband and I purchased a 1990 Ford F250 and had nothing but problems  we have owned the veh...   \n",
       "3   I feel I have a thorough opinion of this truck compared to most who post evaluations of their v...   \n",
       "4   AS a mother of 3  all of whom are still in carseats  the only logical thing to do was to trade ...   \n",
       "\n",
       "                                                                                        Stemmed Review  \n",
       "0  1992 bought new tauru realli love 1999 decid tri new tauru care style newer version bought anywa...  \n",
       "1  last busi trip drove san francisco went hertz rental got 1999 ford tauru think look comfort prof...  \n",
       "2  husband purchas 1990 ford f250 noth problem own vehicl approxim two year spent least half time s...  \n",
       "3  feel thorough opinion truck compar post evalu vehicl truck own sinc new current 75k mile meticul...  \n",
       "4  mother 3 still carseat logic thing trade 200sx minivan minivan one hand vehicl room famili requi...  "
      ]
     },
     "execution_count": 104,
     "metadata": {},
     "output_type": "execute_result"
    }
   ],
   "source": [
    "#Importing the car reviews\n",
    "data = pd.read_csv(r'Downloads/car_reviews.csv')\n",
    "#Initialising a stemmer, using PorterStemmer\n",
    "stemmer = PorterStemmer()\n",
    "#Compiling a list of stopwords, common punctuation\n",
    "stop = set(stopwords.words('english')+list(string.punctuation))\n",
    "#Converting all words to lowercase and implementing stemming\n",
    "data['Stemmed Review'] = data['Review'].apply(lambda x: ' '.join([stemmer.stem(word) for word in x.lower().split() if word not in (stop)]))\n",
    "#Removed all words from corpus which are stopwords, punctuation\n",
    "data.head()"
   ]
  },
  {
   "cell_type": "code",
   "execution_count": 105,
   "metadata": {},
   "outputs": [
    {
     "data": {
      "text/plain": [
       "' The last business trip  I drove to San Francisco  I went to Hertz Rentals and got a 1999 Ford Taurus  thinking it looked comfortable and professional  I found the seating to be uncomfortable for myself  as well as for my passenger Now  seating comfort may not be important to you  but it is to me The fuel usage was fine  the car did get us there with no problems  but  it was such an uncomfortable ride for both of us  It is not as though I am hard to fit into a car  I am 5 5  weigh 115 pounds  and I am usually quite comfortable in most any car  But  the Taurus seemed especially uncomfortable  For anyone who is thinking of renting a car for a long trip  I would suggest that the Ford Taurus  1999  not be on the list of  be sure to get this There was a large trunk that allowed us to pack a lot of materials needed for the business end of the trip  Driving it was a breeze  and everything  worked  right  I have no complaints about the standard making of the car  except in the comfort area  How important is comfort to you  On a long trip  being an uncomfortable driver is distracting to me  and it made the trip seem unnecessarily longer than it should have felt  I make this trip a lot  The Saturn would have been a better choice for me  as I have rented this model quite often  It offers comforts that the Taurus simply does not have If you are planning a long trip  or to buy a car that you intend to be comfortably seated in  check out the Taurus on a longer trial basis than you might another car  You may find the same thing happening to your comfort  '"
      ]
     },
     "execution_count": 105,
     "metadata": {},
     "output_type": "execute_result"
    }
   ],
   "source": [
    "pd.options.display.max_colwidth = 1000\n",
    "data['Review'][1]"
   ]
  },
  {
   "cell_type": "code",
   "execution_count": 106,
   "metadata": {
    "scrolled": true
   },
   "outputs": [
    {
     "data": {
      "text/plain": [
       "'last busi trip drove san francisco went hertz rental got 1999 ford tauru think look comfort profession found seat uncomfort well passeng seat comfort may import fuel usag fine car get us problem uncomfort ride us though hard fit car 5 5 weigh 115 pound usual quit comfort car tauru seem especi uncomfort anyon think rent car long trip would suggest ford tauru 1999 list sure get larg trunk allow us pack lot materi need busi end trip drive breez everyth work right complaint standard make car except comfort area import comfort long trip uncomfort driver distract made trip seem unnecessarili longer felt make trip lot saturn would better choic rent model quit often offer comfort tauru simpli plan long trip buy car intend comfort seat check tauru longer trial basi might anoth car may find thing happen comfort'"
      ]
     },
     "execution_count": 106,
     "metadata": {},
     "output_type": "execute_result"
    }
   ],
   "source": [
    "data['Stemmed Review'][1]"
   ]
  },
  {
   "cell_type": "markdown",
   "metadata": {},
   "source": [
    "#### The previous 2 cells demonstrate the changes made to the review, words such as:\n",
    "* comfort, comfortable have been stemmed to comfort\n",
    "* making, make have been stemmed to make\n",
    "* renting, rented have been stemmed to rent"
   ]
  },
  {
   "cell_type": "code",
   "execution_count": 119,
   "metadata": {},
   "outputs": [
    {
     "name": "stdout",
     "output_type": "stream",
     "text": [
      "Train:  (1105,) (1105,) Test:  ((277,), (277,))\n"
     ]
    }
   ],
   "source": [
    "#Splitting data into train and test data with 80-20 split\n",
    "x_train,x_test,y_train, y_test = train_test_split(data['Stemmed Review'], data['Sentiment'], test_size=0.20, random_state=30)\n",
    "print(\"Train: \",x_train.shape,y_train.shape,\"Test: \",(x_test.shape,y_test.shape))\n",
    "#Count vectorizer converts a collection of reviews to a matrix of token counts.\n",
    "bagofwordsconverter = CountVectorizer()\n",
    "#The matrix is stored in a Tensorflow tensor\n",
    "tf_x_train = bagofwordsconverter.fit_transform(x_train)\n",
    "tf_x_test = bagofwordsconverter.transform(x_test)"
   ]
  },
  {
   "cell_type": "code",
   "execution_count": 112,
   "metadata": {},
   "outputs": [
    {
     "data": {
      "text/plain": [
       "array([[0, 2, 0, ..., 0, 0, 0],\n",
       "       [0, 2, 0, ..., 0, 0, 0],\n",
       "       [0, 0, 0, ..., 0, 0, 0],\n",
       "       ...,\n",
       "       [2, 6, 0, ..., 0, 0, 0],\n",
       "       [0, 1, 0, ..., 0, 0, 0],\n",
       "       [0, 0, 0, ..., 0, 0, 0]], dtype=int64)"
      ]
     },
     "execution_count": 112,
     "metadata": {},
     "output_type": "execute_result"
    }
   ],
   "source": [
    "tf_x_train.toarray()"
   ]
  },
  {
   "cell_type": "code",
   "execution_count": 109,
   "metadata": {},
   "outputs": [],
   "source": [
    "from sklearn.naive_bayes import MultinomialNB\n",
    "#Training a Multinomial Naive-Bayes Classifier only on training data\n",
    "classifier = MultinomialNB()\n",
    "classifier.fit(tf_x_train, y_train)\n",
    "#Predicting the class for test dataset\n",
    "y_pred = classifier.predict(tf_x_test)"
   ]
  },
  {
   "cell_type": "code",
   "execution_count": 113,
   "metadata": {},
   "outputs": [
    {
     "name": "stdout",
     "output_type": "stream",
     "text": [
      "The Multinomial Naive-Bayes Classifier achieved an accuracy of 75.45%\n"
     ]
    },
    {
     "data": {
      "image/png": "[encoded data removed]",
      "text/plain": [
       "<Figure size 432x288 with 2 Axes>"
      ]
     },
     "metadata": {
      "needs_background": "light"
     },
     "output_type": "display_data"
    }
   ],
   "source": [
    "#Creating a confusion matrix and printing accuracies\n",
    "conf_matrix = confusion_matrix(y_test,y_pred)\n",
    "group_names = ['True Neg','False Pos','False Neg','True Pos']\n",
    "group_counts = [\"{0:0.0f}\".format(value) for value in\n",
    "                conf_matrix.flatten()]\n",
    "group_percentages = [\"{0:.2%}\".format(value) for value in\n",
    "                     conf_matrix.flatten()/np.sum(conf_matrix)]\n",
    "labels = [f\"{v1}\\n{v2}\\n{v3}\" for v1, v2, v3 in\n",
    "          zip(group_names,group_counts,group_percentages)]\n",
    "labels = np.asarray(labels).reshape(2,2)\n",
    "sns.heatmap(conf_matrix, annot=labels, fmt='')\n",
    "print('The Multinomial Naive-Bayes Classifier achieved an accuracy of {:.2f}%'.format(accuracy_score(y_test,y_pred)*100))"
   ]
  },
  {
   "cell_type": "markdown",
   "metadata": {},
   "source": [
    "## Task 2"
   ]
  },
  {
   "cell_type": "markdown",
   "metadata": {},
   "source": [
    "While the bag of words technique counts the occurences of each individual token in the review, “Term frequency–inverse document frequency (TF-IDF) , is a numerical statistic that is intended to reflect how important a word is to a document in a collection or corpus.” \n",
    "\n",
    "\n",
    "The Term Frequent (TF) is a measure of how frequently a token, e.g.\"car\", appears in a document \"d\". The denominator is the total number of tokens in the document:\n",
    "$$tf_{car,d} =  \\frac{n_{car,d}}{N_{d}}$$ \n",
    "\n",
    "Inverse Document Frequency (IDF) is a measure of how important a term is. We need the IDF value because computing just the TF alone is not sufficient to understand the importance of words. The numerator is the total number of documents, and the denominator is the total number of documents containing the token \"car\":\n",
    "$$idf_{car} =  log{\\frac{N}{N_{car}}}$$\n",
    "\n",
    "\n",
    "\n",
    "Tokens which are present in every car review, e.g.stopwords have very little importance as their IDF value would reduce to 0. While tokens which are uncommon, e.g. adjectives will have higher IDF values.\n",
    "\n",
    "We can now compute the TF-IDF score for each word in the corpus. Words with a higher score are more important, and those with a lower score are less important:\n",
    "$$tf\\_idf_{car,d} = tf_{car,d}*idf_{car}$$\n",
    "\n",
    "\n",
    "This statistic was calculated for all the tokens in the collection of reviews, and another Multinomial Naive-Bayes classification model was trained on the data.\n",
    "\n",
    "Source - https://citeseerx.ist.psu.edu/viewdoc/download?doi=10.1.1.121.1424&rep=rep1&type=pdf"
   ]
  },
  {
   "cell_type": "code",
   "execution_count": 114,
   "metadata": {},
   "outputs": [
    {
     "name": "stdout",
     "output_type": "stream",
     "text": [
      "Train:  (1105,) (1105,) Test:  ((277,), (277,))\n"
     ]
    }
   ],
   "source": [
    "#Using TF-IDF\n",
    "from sklearn.model_selection import train_test_split\n",
    "#Splitting data into 80-20 train-test\n",
    "x_train,x_test,y_train, y_test = train_test_split(data['Stemmed Review'], data['Sentiment'], test_size=0.20, random_state=30)\n",
    "print(\"Train: \",x_train.shape,y_train.shape,\"Test: \",(x_test.shape,y_test.shape))\n",
    "#The below method creates a matrix of the TF-IDF statistic for each token in the collection of reviews\n",
    "tfidfconverter = TfidfVectorizer()\n",
    "#The matrix is stored in a Tensorflow tensor\n",
    "tf_x_train = tfidfconverter.fit_transform(x_train)\n",
    "tf_x_test = tfidfconverter.transform(x_test)"
   ]
  },
  {
   "cell_type": "code",
   "execution_count": 115,
   "metadata": {},
   "outputs": [
    {
     "data": {
      "text/plain": [
       "array([[0.        , 0.04386611, 0.        , ..., 0.        , 0.        ,\n",
       "        0.        ],\n",
       "       [0.        , 0.05577717, 0.        , ..., 0.        , 0.        ,\n",
       "        0.        ],\n",
       "       [0.        , 0.        , 0.        , ..., 0.        , 0.        ,\n",
       "        0.        ],\n",
       "       [0.        , 0.        , 0.        , ..., 0.        , 0.        ,\n",
       "        0.        ],\n",
       "       [0.        , 0.09763813, 0.        , ..., 0.        , 0.        ,\n",
       "        0.        ]])"
      ]
     },
     "execution_count": 115,
     "metadata": {},
     "output_type": "execute_result"
    }
   ],
   "source": [
    "tf_x_train.toarray()[:5]"
   ]
  },
  {
   "cell_type": "code",
   "execution_count": 116,
   "metadata": {},
   "outputs": [
    {
     "data": {
      "text/plain": [
       "MultinomialNB()"
      ]
     },
     "execution_count": 116,
     "metadata": {},
     "output_type": "execute_result"
    }
   ],
   "source": [
    "from sklearn.naive_bayes import MultinomialNB\n",
    "#Training a Multinomial Naive-Bayes Classifier\n",
    "classifier = MultinomialNB()\n",
    "classifier.fit(tf_x_train.toarray(), y_train)"
   ]
  },
  {
   "cell_type": "markdown",
   "metadata": {},
   "source": [
    "Hyperparameter tuning - This technique is used to find the optimal value of parameters in the Multinomial Naive Bayes model. Each possible parameter combination is tried using k-fold cross validation. \n",
    "\n",
    "K-Fold cross validation is where a given data set is split into a K number of sections/folds where each fold is used as a testing set at some point, while the rest of the folds are used for training. "
   ]
  },
  {
   "cell_type": "markdown",
   "metadata": {},
   "source": [
    "#### Below it is attempted to find the best value of alpha based on the highest training accuracy. "
   ]
  },
  {
   "cell_type": "code",
   "execution_count": 67,
   "metadata": {},
   "outputs": [
    {
     "name": "stdout",
     "output_type": "stream",
     "text": [
      "Fitting 10 folds for each of 100 candidates, totalling 1000 fits\n",
      "0.7954545454545455\n",
      "MultinomialNB(alpha=0.5)\n"
     ]
    }
   ],
   "source": [
    "#Defining a dictionary of parameters and possible values.\n",
    "grid_params = {\n",
    "  'alpha': np.linspace(0.5, 1.5, 100),  \n",
    "}\n",
    "\n",
    "#The GridSearchCV method tries out each possible parameter combination using a k-fold cross validation technique\n",
    "gd=GridSearchCV(estimator=classifier,param_grid=grid_params,cv=10,verbose=True)\n",
    "\n",
    "gd.fit(tf_x_train,y_train)\n",
    "#Prints the best training accuracy and the optimal alpha value\n",
    "print(gd.best_score_)\n",
    "print(gd.best_estimator_)"
   ]
  },
  {
   "cell_type": "code",
   "execution_count": 81,
   "metadata": {},
   "outputs": [],
   "source": [
    "#Setting the optimal alpha value\n",
    "classifier = MultinomialNB(alpha=0.5)\n",
    "classifier.fit(tf_x_train.toarray(), y_train)\n",
    "#Predicting the class for test data\n",
    "y_pred = classifier.predict(tf_x_test.toarray())"
   ]
  },
  {
   "cell_type": "code",
   "execution_count": 82,
   "metadata": {},
   "outputs": [
    {
     "name": "stdout",
     "output_type": "stream",
     "text": [
      "The Updated Multinomial Naive-Bayes Classifier achieved an accuracy of 76.90%\n"
     ]
    },
    {
     "data": {
      "image/png": "[encoded data removed]",
      "text/plain": [
       "<Figure size 432x288 with 2 Axes>"
      ]
     },
     "metadata": {
      "needs_background": "light"
     },
     "output_type": "display_data"
    }
   ],
   "source": [
    "#Creating a confusion matrix and printing accuracies\n",
    "conf_matrix = confusion_matrix(y_test,y_pred)\n",
    "group_names = ['True Neg','False Pos','False Neg','True Pos']\n",
    "group_counts = [\"{0:0.0f}\".format(value) for value in\n",
    "                conf_matrix.flatten()]\n",
    "group_percentages = [\"{0:.2%}\".format(value) for value in\n",
    "                     conf_matrix.flatten()/np.sum(conf_matrix)]\n",
    "labels = [f\"{v1}\\n{v2}\\n{v3}\" for v1, v2, v3 in\n",
    "          zip(group_names,group_counts,group_percentages)]\n",
    "labels = np.asarray(labels).reshape(2,2)\n",
    "sns.heatmap(conf_matrix, annot=labels, fmt='')\n",
    "print('The Updated Multinomial Naive-Bayes Classifier achieved an accuracy of {:.2f}%'.format(accuracy_score(y_test,y_pred)*100))"
   ]
  },
  {
   "cell_type": "markdown",
   "metadata": {},
   "source": [
    "## Discussion"
   ]
  },
  {
   "cell_type": "markdown",
   "metadata": {},
   "source": [
    "The combination of TF-IDF and tuning the parameter alpha improved the accuracy on the test set by 1.45%, it identified only 4 more reviews correctly. By including the importance of the word it did not improve the model performance vastly. \n",
    "\n",
    "While TF-IDF may be able to capture the most descriptive terms in a review, the top descriptive terms identified may not be directly related to the topic of cars. Additionally as the IDF metric punishes words which appear frequently in other documents, hence there could be common descriptive words such as 'bad' which should be given more importance in judging sentiment which have reduced TF-IDF scores, as illustrated in the example below."
   ]
  },
  {
   "cell_type": "code",
   "execution_count": 98,
   "metadata": {},
   "outputs": [
    {
     "name": "stdout",
     "output_type": "stream",
     "text": [
      "The top 10 words are : ['75k' 'bumper' 'warranti' 'extend' 'truck' 'bumber' 'mile' 'mainten'\n",
      " 'bad' 'spray']\n",
      "The review was : Neg\n"
     ]
    }
   ],
   "source": [
    "#Example Review\n",
    "sample_review=data['Stemmed Review'][3]\n",
    "sample_sentiment=data['Sentiment'][3]\n",
    "feature_array = np.array(tfidfconverter.get_feature_names())\n",
    "tfidf_sorting = np.argsort(tfidfconverter.transform([new_s]).toarray()).flatten()[::-1]\n",
    "\n",
    "#Printing out the top 10 words generated by TF-IDF metric\n",
    "n = 10\n",
    "top_n = feature_array[tfidf_sorting][:n]\n",
    "print('The top 10 words are : {}'.format(top_n))\n",
    "print('The review was : {}'.format(sample_sentiment))\n",
    "#Here the word 'bad' which should have been the main factor in deciding the sentiment is ranked 9th in importance by the TF-IDF metric"
   ]
  }
 ],
 "metadata": {
  "kernelspec": {
   "display_name": "Python 3",
   "language": "python",
   "name": "python3"
  },
  "language_info": {
   "codemirror_mode": {
    "name": "ipython",
    "version": 3
   },
   "file_extension": ".py",
   "mimetype": "text/x-python",
   "name": "python",
   "nbconvert_exporter": "python",
   "pygments_lexer": "ipython3",
   "version": "3.8.5"
  }
 },
 "nbformat": 4,
 "nbformat_minor": 5
}
